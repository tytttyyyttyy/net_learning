{
  "nbformat": 4,
  "nbformat_minor": 0,
  "metadata": {
    "colab": {
      "provenance": [],
      "collapsed_sections": [
        "iAh_hgCmSsJ4",
        "mTqhEqIxTDfo",
        "qP1keLox456D",
        "C-w4GNKnOmVY",
        "Vzlzn4V8Dl5L"
      ],
      "mount_file_id": "1K9biY-26TSFV6p14znb2FcGPcv8MArYf",
      "authorship_tag": "ABX9TyOssG8zLstxManK8dMBJn+M",
      "include_colab_link": true
    },
    "kernelspec": {
      "name": "python3",
      "display_name": "Python 3"
    },
    "language_info": {
      "name": "python"
    }
  },
  "cells": [
    {
      "cell_type": "markdown",
      "metadata": {
        "id": "view-in-github",
        "colab_type": "text"
      },
      "source": [
        "<a href=\"https://colab.research.google.com/github/tytttyyyttyy/net_learning/blob/main/auto_cer.ipynb\" target=\"_parent\"><img src=\"https://colab.research.google.com/assets/colab-badge.svg\" alt=\"Open In Colab\"/></a>"
      ]
    },
    {
      "cell_type": "markdown",
      "source": [
        "[record_sheet](https://docs.google.com/spreadsheets/d/1poMhLbeQSrMNnJgTW5zS1bi_hqf6PnHnEi_2aTJ8kRc/edit#gid=0)\n",
        "\n",
        "[template_sheet\n",
        "](https://docs.google.com/spreadsheets/d/1mQ2WUiGKHUJsQBuBJHzOhSst_lsIwYfmZE6y81bz2K4/edit?usp=drive_link)"
      ],
      "metadata": {
        "id": "bRiMmrPk29EQ"
      }
    },
    {
      "cell_type": "markdown",
      "source": [
        "#Prepare"
      ],
      "metadata": {
        "id": "iAh_hgCmSsJ4"
      }
    },
    {
      "cell_type": "code",
      "source": [
        "!pip install gspread\n",
        "\n",
        "import pandas as pd\n",
        "import gspread\n",
        "import requests\n",
        "from oauth2client.service_account import ServiceAccountCredentials\n",
        "\n",
        "from google.colab import auth\n",
        "auth.authenticate_user()\n",
        "\n",
        "import googleapiclient.discovery\n",
        "import google.auth\n",
        "from google.auth.transport.requests import Request\n",
        "from oauth2client.client import GoogleCredentials\n",
        "from gspread import authorize\n",
        "\n",
        "creds, _ = google.auth.default()\n",
        "gc = authorize(creds)"
      ],
      "metadata": {
        "id": "OGaUA-A1MiZH",
        "colab": {
          "base_uri": "https://localhost:8080/"
        },
        "outputId": "80bedc5a-1292-4a73-aa91-8a015a73f666"
      },
      "execution_count": null,
      "outputs": [
        {
          "output_type": "stream",
          "name": "stdout",
          "text": [
            "Requirement already satisfied: gspread in /usr/local/lib/python3.10/dist-packages (6.0.2)\n",
            "Requirement already satisfied: google-auth>=1.12.0 in /usr/local/lib/python3.10/dist-packages (from gspread) (2.27.0)\n",
            "Requirement already satisfied: google-auth-oauthlib>=0.4.1 in /usr/local/lib/python3.10/dist-packages (from gspread) (1.2.0)\n",
            "Requirement already satisfied: StrEnum==0.4.15 in /usr/local/lib/python3.10/dist-packages (from gspread) (0.4.15)\n",
            "Requirement already satisfied: cachetools<6.0,>=2.0.0 in /usr/local/lib/python3.10/dist-packages (from google-auth>=1.12.0->gspread) (5.3.3)\n",
            "Requirement already satisfied: pyasn1-modules>=0.2.1 in /usr/local/lib/python3.10/dist-packages (from google-auth>=1.12.0->gspread) (0.4.0)\n",
            "Requirement already satisfied: rsa<5,>=3.1.4 in /usr/local/lib/python3.10/dist-packages (from google-auth>=1.12.0->gspread) (4.9)\n",
            "Requirement already satisfied: requests-oauthlib>=0.7.0 in /usr/local/lib/python3.10/dist-packages (from google-auth-oauthlib>=0.4.1->gspread) (1.3.1)\n",
            "Requirement already satisfied: pyasn1<0.7.0,>=0.4.6 in /usr/local/lib/python3.10/dist-packages (from pyasn1-modules>=0.2.1->google-auth>=1.12.0->gspread) (0.6.0)\n",
            "Requirement already satisfied: oauthlib>=3.0.0 in /usr/local/lib/python3.10/dist-packages (from requests-oauthlib>=0.7.0->google-auth-oauthlib>=0.4.1->gspread) (3.2.2)\n",
            "Requirement already satisfied: requests>=2.0.0 in /usr/local/lib/python3.10/dist-packages (from requests-oauthlib>=0.7.0->google-auth-oauthlib>=0.4.1->gspread) (2.31.0)\n",
            "Requirement already satisfied: charset-normalizer<4,>=2 in /usr/local/lib/python3.10/dist-packages (from requests>=2.0.0->requests-oauthlib>=0.7.0->google-auth-oauthlib>=0.4.1->gspread) (3.3.2)\n",
            "Requirement already satisfied: idna<4,>=2.5 in /usr/local/lib/python3.10/dist-packages (from requests>=2.0.0->requests-oauthlib>=0.7.0->google-auth-oauthlib>=0.4.1->gspread) (3.7)\n",
            "Requirement already satisfied: urllib3<3,>=1.21.1 in /usr/local/lib/python3.10/dist-packages (from requests>=2.0.0->requests-oauthlib>=0.7.0->google-auth-oauthlib>=0.4.1->gspread) (2.0.7)\n",
            "Requirement already satisfied: certifi>=2017.4.17 in /usr/local/lib/python3.10/dist-packages (from requests>=2.0.0->requests-oauthlib>=0.7.0->google-auth-oauthlib>=0.4.1->gspread) (2024.2.2)\n"
          ]
        }
      ]
    },
    {
      "cell_type": "code",
      "source": [
        "file_path = '/content/drive/My Drive/auto certificate/HR_Dataset_2024.csv'\n",
        "\n",
        "df = pd.read_csv(file_path) # 讀取 CSV 檔案\n",
        "\n",
        "## 取得 Google Spreadsheets 工作表 : record_sheet\n",
        "record_sheet_id = '1poMhLbeQSrMNnJgTW5zS1bi_hqf6PnHnEi_2aTJ8kRc'\n",
        "record_sheet_name = 'record'\n",
        "record_sheet = gc.open_by_key(record_sheet_id).worksheet(record_sheet_name)\n"
      ],
      "metadata": {
        "id": "OF_y5wt1mMFZ"
      },
      "execution_count": null,
      "outputs": []
    },
    {
      "cell_type": "markdown",
      "source": [
        "# AUTO Certificate"
      ],
      "metadata": {
        "id": "mTqhEqIxTDfo"
      }
    },
    {
      "cell_type": "markdown",
      "source": [
        "###function"
      ],
      "metadata": {
        "id": "U8eeE3s6ZmXp"
      }
    },
    {
      "cell_type": "code",
      "source": [
        "#-------------------------------------------分隔線------------------------------------------------------#\n",
        "## def挑選employee_num\n",
        "\n",
        "def choose_empnum():\n",
        "    df['Emp #'] = df['Emp #'].astype(str)  ##將 Emp 欄位轉換為文字格式\n",
        "    while True:  ## 使用 while 迴圈讓使用者可以重複輸入\n",
        "        emp_num = input(\"請輸入要查詢的Emp #：\")  ## 讓使用者輸入特定 Emp\n",
        "        df_filtered = df[df['Emp #'] == emp_num]  ## 篩選出符合條件的資料\n",
        "\n",
        "        ## 判斷是否有資料\n",
        "        if len(df_filtered) > 0:\n",
        "            ## 取得員工資料\n",
        "            employee_data = df_filtered[['Emp #', 'Employee Name', 'Location', 'National ID','Department','DOB', 'Position', 'Date of Termination']].to_dict(orient='records')[0]\n",
        "\n",
        "            ## 將 NaN 轉換為字串 'nan'\n",
        "            for key, value in employee_data.items():\n",
        "                if pd.isna(value):\n",
        "                    employee_data[key] = 'nan'\n",
        "\n",
        "            today = pd.Timestamp('today')  ## 取得目前日期\n",
        "            today_str = today.strftime('%Y-%m-%d')\n",
        "            employee_data['Current Date'] = today_str  ## 將目前日期加到字典中\n",
        "\n",
        "            ## 輸出員工資料\n",
        "            data = pd.DataFrame([employee_data]).values.tolist()  ## 將DataFrame轉換為二維列表\n",
        "            data = data[0]  ## 將列表轉換為一維\n",
        "            record_sheet.append_row(data)  ## 將data導入record sheet\n",
        "\n",
        "            return employee_data, data, emp_num\n",
        "\n",
        "        else:\n",
        "            print(f\"查無Emp # {emp_num} 的資料\")\n",
        "\n",
        "            ## 詢問使用者是否要重新輸入\n",
        "            choice = input(\"是否要重新輸入？ (y/n)：\")\n",
        "            if choice.lower() != 'y':\n",
        "                break  ## 若使用者輸入不是 'y'，則結束迴圈\n",
        "\n",
        "#-------------------------------------------分隔線------------------------------------------------------#\n",
        "## def複製工作表\n",
        "  ##複製template工作表到copied工作表，source_sheet_id 為要複製的工作表的 ID，new_sheet_name 為複製工作表的名稱。\n",
        "\n",
        "def duplicate_sheet(spreadsheet_id, source_sheet_id, new_sheet_name):\n",
        "  #delete_sheet(spreadsheet_id, new_sheet_name)\n",
        "  sheets_service = googleapiclient.discovery.build('sheets', 'v4')\n",
        "  request = {\n",
        "      'requests': [\n",
        "          {\n",
        "              'duplicateSheet': {\n",
        "                  'sourceSheetId': source_sheet_id,\n",
        "                  'newSheetName': new_sheet_name,\n",
        "              }\n",
        "          }\n",
        "      ]\n",
        "  }\n",
        "  sheets_service.spreadsheets().batchUpdate(spreadsheetId=spreadsheet_id, body=request).execute()\n",
        "\n",
        "  template_sheet = gc.open_by_key(spreadsheet_id).worksheet(new_sheet_name)\n",
        "  return template_sheet\n",
        "\n",
        "#-------------------------------------------分隔線------------------------------------------------------#\n",
        "## 替換模板資料到copied工作表\n",
        "def data_to_copied(employee_data, data, template_sheet):\n",
        "\n",
        "  employee_data_columns = pd.DataFrame([employee_data]).columns.tolist()\n",
        "  a = pd.DataFrame([employee_data]).shape[1]  ## a等於employee_data_columns數量\n",
        "\n",
        "  ## 從0到a都會執行一次\n",
        "  for i in range(a):\n",
        "      search_term = \"{{ [\" + employee_data_columns[i] + \"] }}\"\n",
        "      replace_term = data[i]\n",
        "\n",
        "      for row_index, row in enumerate(template_sheet.get_all_values()):\n",
        "          for column_index, cell in enumerate(row):\n",
        "              if search_term in cell:\n",
        "                  ## 找到搜尋詞彙所在的列和欄位\n",
        "                  search_term_column = column_index\n",
        "                  search_term_row = row_index + 1\n",
        "\n",
        "                  ## 更新指定的欄位\n",
        "                  template_sheet.update_acell(f'{chr(ord(\"A\") + search_term_column)}{search_term_row}', replace_term)\n",
        "\n",
        "  copied_id = template_sheet.id\n",
        "  return copied_id\n",
        "\n",
        "#-------------------------------------------分隔線------------------------------------------------------#\n",
        "## def生成pdf\n",
        "\n",
        "def generate_pdf(template_sheet_id, copied_id, emp_num):\n",
        "    ## google sheet to PDF #url範例:https://docs.google.com/spreadsheets/d/<spreadsheet_id>/export?format=pdf&gid=<worksheet_id>\n",
        "    pdf_url = f\"https://docs.google.com/spreadsheets/d/{template_sheet_id}/export?format=pdf&gid={copied_id}\"\n",
        "    response = requests.get(pdf_url)\n",
        "      ## Construct the desired file path\n",
        "    pdf_file_name = f\"termination_certificate_{emp_num}.pdf\"\n",
        "    pdf_file_path = \"/content/drive/My Drive/auto certificate/outputs/\" + pdf_file_name\n",
        "\n",
        "    ## Save the PDF to the specified location\n",
        "    with open(pdf_file_path, 'wb') as f:\n",
        "        f.write(response.content)\n",
        "    print(f\"PDF saved to {pdf_file_path}\")\n",
        "\n",
        "#-------------------------------------------分隔線------------------------------------------------------#\n",
        "## def刪除copied工作表\n",
        "def delete_sheet(template_sheet_id, template_name):\n",
        "\n",
        "  try:## Open the template\n",
        "    spreadsheet = gc.open_by_key(template_sheet_id)\n",
        "    worksheet = spreadsheet.worksheet(template_name)\n",
        "  except (KeyError, AttributeError) as e:\n",
        "    print(f\"Error accessing worksheet '{template_name}': {e}\")\n",
        "    exit(1)\n",
        "\n",
        "  ## Delete the worksheet\n",
        "  try:\n",
        "    spreadsheet.del_worksheet(worksheet)\n",
        "    print(f\"Worksheet '{template_name}' deleted from spreadsheet with ID '{template_sheet_id}'\")\n",
        "  except Exception as e:\n",
        "    print(f\"Failed to delete worksheet '{template_name}': {e}\")\n",
        "    exit(1)\n",
        "\n",
        "#-------------------------------------------分隔線------------------------------------------------------#\n",
        "\n",
        "\n"
      ],
      "metadata": {
        "id": "nrV_llnCWvCS"
      },
      "execution_count": null,
      "outputs": []
    },
    {
      "cell_type": "markdown",
      "source": [
        "### execute"
      ],
      "metadata": {
        "id": "qP1keLox456D"
      }
    },
    {
      "cell_type": "code",
      "source": [
        "template_sheet_id = '1mQ2WUiGKHUJsQBuBJHzOhSst_lsIwYfmZE6y81bz2K4'\n",
        "template_name = 'copied'\n",
        "employee_data, data, emp_num = choose_empnum() ## def-挑選employee_num\n",
        "template_sheet = duplicate_sheet(template_sheet_id, '0', template_name ) ## def-複製工作表\n",
        "copied_id = data_to_copied(employee_data, data, template_sheet) ## def-替換模板資料到copied工作表\n",
        "generate_pdf(template_sheet_id, copied_id, emp_num) ## def-生成pdf\n",
        "delete_sheet(template_sheet_id, template_name) ## def-刪除copied工作表"
      ],
      "metadata": {
        "id": "HE3JqrnlMJH8",
        "colab": {
          "base_uri": "https://localhost:8080/"
        },
        "outputId": "6fe4b11b-51ee-44fd-d8d6-0c3c5702bc5d"
      },
      "execution_count": null,
      "outputs": [
        {
          "output_type": "stream",
          "name": "stdout",
          "text": [
            "請輸入要查詢的Emp #：E0043\n",
            "PDF saved to /content/drive/My Drive/auto certificate/outputs/termination_certificate_E0043.pdf\n",
            "Worksheet 'copied' deleted from spreadsheet with ID '1mQ2WUiGKHUJsQBuBJHzOhSst_lsIwYfmZE6y81bz2K4'\n"
          ]
        }
      ]
    }
  ]
}