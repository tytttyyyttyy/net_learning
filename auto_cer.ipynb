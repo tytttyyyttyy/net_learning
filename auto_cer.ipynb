{
  "nbformat": 4,
  "nbformat_minor": 0,
  "metadata": {
    "colab": {
      "provenance": [],
      "collapsed_sections": [
        "Vzlzn4V8Dl5L",
        "8qO3ySsNiwjH"
      ],
      "machine_shape": "hm",
      "authorship_tag": "ABX9TyPXS2kjQ5vSlCuMe4Sx77CG",
      "include_colab_link": true
    },
    "kernelspec": {
      "name": "python3",
      "display_name": "Python 3"
    },
    "language_info": {
      "name": "python"
    }
  },
  "cells": [
    {
      "cell_type": "markdown",
      "metadata": {
        "id": "view-in-github",
        "colab_type": "text"
      },
      "source": [
        "<a href=\"https://colab.research.google.com/github/tytttyyyttyy/net_learning/blob/main/auto_cer.ipynb\" target=\"_parent\"><img src=\"https://colab.research.google.com/assets/colab-badge.svg\" alt=\"Open In Colab\"/></a>"
      ]
    },
    {
      "cell_type": "code",
      "source": [
        "!pip install gspread PyPDF2"
      ],
      "metadata": {
        "id": "OGaUA-A1MiZH",
        "colab": {
          "base_uri": "https://localhost:8080/"
        },
        "outputId": "ec10aee1-ffb4-450e-9fab-9e4ed6ba67d0"
      },
      "execution_count": null,
      "outputs": [
        {
          "output_type": "stream",
          "name": "stdout",
          "text": [
            "Requirement already satisfied: gspread in /usr/local/lib/python3.10/dist-packages (6.0.2)\n",
            "Requirement already satisfied: PyPDF2 in /usr/local/lib/python3.10/dist-packages (3.0.1)\n",
            "Requirement already satisfied: google-auth>=1.12.0 in /usr/local/lib/python3.10/dist-packages (from gspread) (2.27.0)\n",
            "Requirement already satisfied: google-auth-oauthlib>=0.4.1 in /usr/local/lib/python3.10/dist-packages (from gspread) (1.2.0)\n",
            "Requirement already satisfied: StrEnum==0.4.15 in /usr/local/lib/python3.10/dist-packages (from gspread) (0.4.15)\n",
            "Requirement already satisfied: cachetools<6.0,>=2.0.0 in /usr/local/lib/python3.10/dist-packages (from google-auth>=1.12.0->gspread) (5.3.3)\n",
            "Requirement already satisfied: pyasn1-modules>=0.2.1 in /usr/local/lib/python3.10/dist-packages (from google-auth>=1.12.0->gspread) (0.4.0)\n",
            "Requirement already satisfied: rsa<5,>=3.1.4 in /usr/local/lib/python3.10/dist-packages (from google-auth>=1.12.0->gspread) (4.9)\n",
            "Requirement already satisfied: requests-oauthlib>=0.7.0 in /usr/local/lib/python3.10/dist-packages (from google-auth-oauthlib>=0.4.1->gspread) (1.3.1)\n",
            "Requirement already satisfied: pyasn1<0.7.0,>=0.4.6 in /usr/local/lib/python3.10/dist-packages (from pyasn1-modules>=0.2.1->google-auth>=1.12.0->gspread) (0.6.0)\n",
            "Requirement already satisfied: oauthlib>=3.0.0 in /usr/local/lib/python3.10/dist-packages (from requests-oauthlib>=0.7.0->google-auth-oauthlib>=0.4.1->gspread) (3.2.2)\n",
            "Requirement already satisfied: requests>=2.0.0 in /usr/local/lib/python3.10/dist-packages (from requests-oauthlib>=0.7.0->google-auth-oauthlib>=0.4.1->gspread) (2.31.0)\n",
            "Requirement already satisfied: charset-normalizer<4,>=2 in /usr/local/lib/python3.10/dist-packages (from requests>=2.0.0->requests-oauthlib>=0.7.0->google-auth-oauthlib>=0.4.1->gspread) (3.3.2)\n",
            "Requirement already satisfied: idna<4,>=2.5 in /usr/local/lib/python3.10/dist-packages (from requests>=2.0.0->requests-oauthlib>=0.7.0->google-auth-oauthlib>=0.4.1->gspread) (3.7)\n",
            "Requirement already satisfied: urllib3<3,>=1.21.1 in /usr/local/lib/python3.10/dist-packages (from requests>=2.0.0->requests-oauthlib>=0.7.0->google-auth-oauthlib>=0.4.1->gspread) (2.0.7)\n",
            "Requirement already satisfied: certifi>=2017.4.17 in /usr/local/lib/python3.10/dist-packages (from requests>=2.0.0->requests-oauthlib>=0.7.0->google-auth-oauthlib>=0.4.1->gspread) (2024.2.2)\n"
          ]
        }
      ]
    },
    {
      "cell_type": "code",
      "source": [
        "!pip install gspread\n"
      ],
      "metadata": {
        "colab": {
          "base_uri": "https://localhost:8080/"
        },
        "id": "7XNxb09kWwAA",
        "outputId": "874e5a76-7386-4628-e215-28675215f466"
      },
      "execution_count": null,
      "outputs": [
        {
          "output_type": "stream",
          "name": "stdout",
          "text": [
            "Requirement already satisfied: gspread in /usr/local/lib/python3.10/dist-packages (6.0.2)\n",
            "Requirement already satisfied: google-auth>=1.12.0 in /usr/local/lib/python3.10/dist-packages (from gspread) (2.27.0)\n",
            "Requirement already satisfied: google-auth-oauthlib>=0.4.1 in /usr/local/lib/python3.10/dist-packages (from gspread) (1.2.0)\n",
            "Requirement already satisfied: StrEnum==0.4.15 in /usr/local/lib/python3.10/dist-packages (from gspread) (0.4.15)\n",
            "Requirement already satisfied: cachetools<6.0,>=2.0.0 in /usr/local/lib/python3.10/dist-packages (from google-auth>=1.12.0->gspread) (5.3.3)\n",
            "Requirement already satisfied: pyasn1-modules>=0.2.1 in /usr/local/lib/python3.10/dist-packages (from google-auth>=1.12.0->gspread) (0.4.0)\n",
            "Requirement already satisfied: rsa<5,>=3.1.4 in /usr/local/lib/python3.10/dist-packages (from google-auth>=1.12.0->gspread) (4.9)\n",
            "Requirement already satisfied: requests-oauthlib>=0.7.0 in /usr/local/lib/python3.10/dist-packages (from google-auth-oauthlib>=0.4.1->gspread) (1.3.1)\n",
            "Requirement already satisfied: pyasn1<0.7.0,>=0.4.6 in /usr/local/lib/python3.10/dist-packages (from pyasn1-modules>=0.2.1->google-auth>=1.12.0->gspread) (0.6.0)\n",
            "Requirement already satisfied: oauthlib>=3.0.0 in /usr/local/lib/python3.10/dist-packages (from requests-oauthlib>=0.7.0->google-auth-oauthlib>=0.4.1->gspread) (3.2.2)\n",
            "Requirement already satisfied: requests>=2.0.0 in /usr/local/lib/python3.10/dist-packages (from requests-oauthlib>=0.7.0->google-auth-oauthlib>=0.4.1->gspread) (2.31.0)\n",
            "Requirement already satisfied: charset-normalizer<4,>=2 in /usr/local/lib/python3.10/dist-packages (from requests>=2.0.0->requests-oauthlib>=0.7.0->google-auth-oauthlib>=0.4.1->gspread) (3.3.2)\n",
            "Requirement already satisfied: idna<4,>=2.5 in /usr/local/lib/python3.10/dist-packages (from requests>=2.0.0->requests-oauthlib>=0.7.0->google-auth-oauthlib>=0.4.1->gspread) (3.7)\n",
            "Requirement already satisfied: urllib3<3,>=1.21.1 in /usr/local/lib/python3.10/dist-packages (from requests>=2.0.0->requests-oauthlib>=0.7.0->google-auth-oauthlib>=0.4.1->gspread) (2.0.7)\n",
            "Requirement already satisfied: certifi>=2017.4.17 in /usr/local/lib/python3.10/dist-packages (from requests>=2.0.0->requests-oauthlib>=0.7.0->google-auth-oauthlib>=0.4.1->gspread) (2024.2.2)\n"
          ]
        }
      ]
    },
    {
      "cell_type": "code",
      "source": [
        "import pandas as pd\n",
        "from google.colab import drive\n",
        "import gspread\n",
        "from oauth2client.service_account import ServiceAccountCredentials\n",
        "from PyPDF2 import PdfReader, PdfWriter\n",
        "from jinja2 import Template\n",
        "\n",
        "from google.colab import auth\n",
        "auth.authenticate_user()\n",
        "\n",
        "import google.auth\n",
        "from google.auth.transport.requests import Request\n",
        "from google.colab import auth\n",
        "from oauth2client.client import GoogleCredentials\n",
        "from gspread import authorize\n",
        "\n",
        "creds, _ = google.auth.default()\n",
        "gc = authorize(creds)"
      ],
      "metadata": {
        "id": "OF_y5wt1mMFZ"
      },
      "execution_count": null,
      "outputs": []
    },
    {
      "cell_type": "code",
      "source": [
        "drive.mount('/content/drive')\n",
        "file_path = '/content/drive/My Drive/auto certificate/HR_Dataset_2024.csv'\n",
        "df = pd.read_csv(file_path)\n",
        "\n",
        "df['Emp #'] = df['Emp #'].astype(str)# 將 Emp # 欄位轉換為文字格式\n",
        "emp_num = input(\"請輸入要查詢的Emp #：\")# 讓使用者輸入特定Emp #\n",
        "df_filtered = df[df['Emp #'] == emp_num]# 篩選出符合條件的資料\n"
      ],
      "metadata": {
        "colab": {
          "base_uri": "https://localhost:8080/"
        },
        "id": "MbBuehP4wpyT",
        "outputId": "1910b078-5dd1-4387-94bf-3ecf37966c39"
      },
      "execution_count": null,
      "outputs": [
        {
          "name": "stdout",
          "output_type": "stream",
          "text": [
            "Drive already mounted at /content/drive; to attempt to forcibly remount, call drive.mount(\"/content/drive\", force_remount=True).\n",
            "請輸入要查詢的Emp #：E0005\n"
          ]
        }
      ]
    },
    {
      "cell_type": "code",
      "source": [
        "\n",
        "# 輸出指定欄位\n",
        "if len(df_filtered) > 0:\n",
        "  #print(df_filtered[['Emp #', 'Employee Name', 'Location', 'National ID','Department','DOB', 'Date of Hire', 'Date of Termination']])\n",
        "  # 取得員工資料\n",
        "  employee_data = df_filtered[['Emp #', 'Employee Name', 'Location', 'National ID','Department','DOB', 'Date of Hire', 'Date of Termination']].to_dict(orient='records')[0]\n",
        "else:\n",
        "  print(f\"查無Emp # {emp_num} 的資料\")"
      ],
      "metadata": {
        "id": "vvKW0HC-mQx5"
      },
      "execution_count": null,
      "outputs": []
    },
    {
      "cell_type": "code",
      "source": [
        "# 判斷是否有資料\n",
        "if len(df_filtered) > 0:\n",
        "    # 取得員工資料\n",
        "    employee_data = df_filtered[['Emp #', 'Employee Name', 'Location', 'National ID','Department','DOB', 'Date of Hire', 'Date of Termination']].to_dict(orient='records')[0]\n",
        "\n",
        "    # 將 NaN 轉換為字串 'nan'\n",
        "    for key, value in employee_data.items():\n",
        "        if pd.isna(value):\n",
        "            employee_data[key] = 'nan'\n",
        "\n",
        "    # 輸出員工資料\n",
        "    print(employee_data)\n",
        "else:\n",
        "    print(f\"查無Emp # {emp_num} 的資料\")\n",
        "\n",
        "# 將DataFrame轉換為二維列表\n",
        "data = pd.DataFrame([employee_data]).values.tolist()[0]\n",
        "data"
      ],
      "metadata": {
        "colab": {
          "base_uri": "https://localhost:8080/"
        },
        "id": "wJZ6rudWwnkQ",
        "outputId": "8048e069-441a-4203-e4e9-72be91f0d5b0"
      },
      "execution_count": null,
      "outputs": [
        {
          "output_type": "stream",
          "name": "stdout",
          "text": [
            "{'Emp #': 'E0005', 'Employee Name': 'Singh, Nan ', 'Location': 'TWN', 'National ID': 1307059817, 'Department': 'Admin Offices', 'DOB': '1988/5/19', 'Date of Hire': '2015/5/1', 'Date of Termination': 'nan'}\n"
          ]
        },
        {
          "output_type": "execute_result",
          "data": {
            "text/plain": [
              "['E0005',\n",
              " 'Singh, Nan ',\n",
              " 'TWN',\n",
              " 1307059817,\n",
              " 'Admin Offices',\n",
              " '1988/5/19',\n",
              " '2015/5/1',\n",
              " 'nan']"
            ]
          },
          "metadata": {},
          "execution_count": 13
        }
      ]
    },
    {
      "cell_type": "code",
      "source": [
        "spreadsheet_id = '1poMhLbeQSrMNnJgTW5zS1bi_hqf6PnHnEi_2aTJ8kRc'\n",
        "sheet_name = 'record'\n",
        "# 取得 Google Spreadsheets 工作表\n",
        "sheet = gc.open_by_key(spreadsheet_id).worksheet(sheet_name)"
      ],
      "metadata": {
        "id": "eIWtm0kWE6T0"
      },
      "execution_count": null,
      "outputs": []
    },
    {
      "cell_type": "code",
      "source": [
        "sheet.append_row(data)"
      ],
      "metadata": {
        "id": "Q6gHpZEYnxoO"
      },
      "execution_count": null,
      "outputs": []
    }
  ]
}