{
  "nbformat": 4,
  "nbformat_minor": 0,
  "metadata": {
    "colab": {
      "provenance": [],
      "collapsed_sections": [
        "iAh_hgCmSsJ4",
        "Vzlzn4V8Dl5L"
      ],
      "mount_file_id": "1WH3IEkWrs8hjAwnkJqfGifc4kpsXzRoJ",
      "authorship_tag": "ABX9TyPJChiRbIpNopHXCTxhOPax",
      "include_colab_link": true
    },
    "kernelspec": {
      "name": "python3",
      "display_name": "Python 3"
    },
    "language_info": {
      "name": "python"
    }
  },
  "cells": [
    {
      "cell_type": "markdown",
      "metadata": {
        "id": "view-in-github",
        "colab_type": "text"
      },
      "source": [
        "<a href=\"https://colab.research.google.com/github/tytttyyyttyy/net_learning/blob/main/auto_cer.ipynb\" target=\"_parent\"><img src=\"https://colab.research.google.com/assets/colab-badge.svg\" alt=\"Open In Colab\"/></a>"
      ]
    },
    {
      "cell_type": "markdown",
      "source": [
        "[record_sheet](https://docs.google.com/spreadsheets/d/1poMhLbeQSrMNnJgTW5zS1bi_hqf6PnHnEi_2aTJ8kRc/edit#gid=0)\n",
        "\n",
        "[template_sheet\n",
        "](https://docs.google.com/spreadsheets/d/1mQ2WUiGKHUJsQBuBJHzOhSst_lsIwYfmZE6y81bz2K4/edit?usp=drive_link)"
      ],
      "metadata": {
        "id": "bRiMmrPk29EQ"
      }
    },
    {
      "cell_type": "markdown",
      "source": [
        "#gradio\n"
      ],
      "metadata": {
        "id": "bKOKdrD3b-pn"
      }
    },
    {
      "cell_type": "code",
      "source": [
        "!pip install gspread gradio openai"
      ],
      "metadata": {
        "id": "kKlw2yQD9N8P"
      },
      "execution_count": null,
      "outputs": []
    },
    {
      "cell_type": "code",
      "source": [
        "import pandas as pd\n",
        "import gspread\n",
        "import requests\n",
        "from oauth2client.service_account import ServiceAccountCredentials\n",
        "import gradio as gr\n",
        "\n",
        "from google.colab import auth\n",
        "auth.authenticate_user()\n",
        "\n",
        "import os\n",
        "import json\n",
        "import openai\n",
        "from openai import OpenAI\n",
        "\n",
        "import googleapiclient.discovery\n",
        "import google.auth\n",
        "from google.auth.transport.requests import Request\n",
        "from oauth2client.client import GoogleCredentials\n",
        "from gspread import authorize\n",
        "\n",
        "\n",
        "# 確保你已經將 Google 驗證憑證加載到環境中\n",
        "creds, _ = google.auth.default()\n",
        "gc = authorize(creds)\n",
        "\n",
        "file_path = '/content/drive/My Drive/auto certificate/HR_Dataset_2024.csv'\n",
        "df = pd.read_csv(file_path)  # 讀取 CSV 檔案\n",
        "\n",
        "# 取得 Google Spreadsheets 工作表 : record_sheet\n",
        "record_sheet_id = '1poMhLbeQSrMNnJgTW5zS1bi_hqf6PnHnEi_2aTJ8kRc'\n",
        "record_sheet_name = 'record'\n",
        "record_sheet = gc.open_by_key(record_sheet_id).worksheet(record_sheet_name)\n",
        "\n",
        "def choose_empnum(emp_num):\n",
        "    df['Emp #'] = df['Emp #'].astype(str)  # 將 Emp 欄位轉換為文字格式\n",
        "    df_filtered = df[df['Emp #'] == emp_num]  # 篩選出符合條件的資料\n",
        "\n",
        "    if len(df_filtered) > 0:\n",
        "        employee_data = df_filtered[['Emp #', 'Employee Name', 'Location', 'National ID', 'Department', 'DOB', 'Position', 'Date of Termination', 'Gender']].to_dict(orient='records')[0]\n",
        "        for key, value in employee_data.items():\n",
        "            if pd.isna(value):\n",
        "                employee_data[key] = 'nan'\n",
        "\n",
        "        today = pd.Timestamp('today')  # 取得目前日期\n",
        "        today_str = today.strftime('%Y-%m-%d')\n",
        "        employee_data['Current Date'] = today_str  # 將目前日期加到字典中\n",
        "\n",
        "        data = pd.DataFrame([employee_data]).values.tolist()  # 將DataFrame轉換為二維列表\n",
        "        data = data[0]  # 將列表轉換為一維\n",
        "        record_sheet.append_row(data)  # 將data導入record sheet\n",
        "\n",
        "        return employee_data, data, emp_num\n",
        "\n",
        "    else:\n",
        "        return None, None, emp_num\n",
        "\n",
        "def duplicate_sheet(spreadsheet_id, source_sheet_id, new_sheet_name):\n",
        "    sheets_service = googleapiclient.discovery.build('sheets', 'v4')\n",
        "    request = {\n",
        "        'requests': [\n",
        "            {\n",
        "                'duplicateSheet': {\n",
        "                    'sourceSheetId': source_sheet_id,\n",
        "                    'newSheetName': new_sheet_name,\n",
        "                }\n",
        "            }\n",
        "        ]\n",
        "    }\n",
        "    sheets_service.spreadsheets().batchUpdate(spreadsheetId=spreadsheet_id, body=request).execute()\n",
        "    template_sheet = gc.open_by_key(spreadsheet_id).worksheet(new_sheet_name)\n",
        "    return template_sheet\n",
        "\n",
        "def data_to_copied(employee_data, data, template_sheet):\n",
        "    employee_data_columns = pd.DataFrame([employee_data]).columns.tolist()\n",
        "    a = pd.DataFrame([employee_data]).shape[1]  # a等於employee_data_columns數量\n",
        "\n",
        "    for i in range(a):\n",
        "        search_term = \"{{ [\" + employee_data_columns[i] + \"] }}\"\n",
        "        replace_term = data[i]\n",
        "\n",
        "        for row_index, row in enumerate(template_sheet.get_all_values()):\n",
        "            for column_index, cell in enumerate(row):\n",
        "                if search_term in cell:\n",
        "                    search_term_column = column_index\n",
        "                    search_term_row = row_index + 1\n",
        "                    template_sheet.update_acell(f'{chr(ord(\"A\") + search_term_column)}{search_term_row}', replace_term)\n",
        "\n",
        "    copied_id = template_sheet.id\n",
        "    return copied_id\n",
        "\n",
        "def generate_pdf(template_sheet_id, copied_id, emp_num):\n",
        "    pdf_url = f\"https://docs.google.com/spreadsheets/d/{template_sheet_id}/export?format=pdf&gid={copied_id}\"\n",
        "    response = requests.get(pdf_url)\n",
        "    pdf_file_name = f\"termination_certificate_{emp_num}.pdf\"\n",
        "    pdf_file_path = \"/content/drive/My Drive/auto certificate/outputs/\" + pdf_file_name\n",
        "\n",
        "    with open(pdf_file_path, 'wb') as f:\n",
        "        f.write(response.content)\n",
        "    return pdf_file_path\n",
        "\n",
        "def delete_sheet(template_sheet_id, template_name):\n",
        "    try:\n",
        "        spreadsheet = gc.open_by_key(template_sheet_id)\n",
        "        worksheet = spreadsheet.worksheet(template_name)\n",
        "    except (KeyError, AttributeError) as e:\n",
        "        print(f\"Error accessing worksheet '{template_name}': {e}\")\n",
        "        return\n",
        "\n",
        "    try:\n",
        "        spreadsheet.del_worksheet(worksheet)\n",
        "        print(f\"Worksheet '{template_name}' deleted from spreadsheet with ID '{template_sheet_id}'\")\n",
        "    except Exception as e:\n",
        "        print(f\"Failed to delete worksheet '{template_name}': {e}\")\n",
        "\n",
        "def generate_termination_pdf(emp_num):\n",
        "    template_sheet_id = '1mQ2WUiGKHUJsQBuBJHzOhSst_lsIwYfmZE6y81bz2K4'\n",
        "    template_name = 'copied'\n",
        "    employee_data, data, emp_num = choose_empnum(emp_num)\n",
        "\n",
        "    if employee_data is None:\n",
        "        return f\"查無Emp # {emp_num} 的資料\"\n",
        "\n",
        "    template_sheet = duplicate_sheet(template_sheet_id, '0', template_name)\n",
        "    copied_id = data_to_copied(employee_data, data, template_sheet)\n",
        "    pdf_path = generate_pdf(template_sheet_id, copied_id, emp_num)\n",
        "    delete_sheet(template_sheet_id, template_name)\n",
        "\n",
        "    return f\"PDF generated and saved at: {pdf_path}\"\n",
        "\n",
        "def call_openai(user_question):\n",
        "    try:\n",
        "        record_data = record_sheet.get_all_values()\n",
        "        json_data = json.dumps(record_data)\n",
        "\n",
        "        # from openai import OpenAI\n",
        "        with open('/content/drive/My Drive/auto certificate/client/auto_cer_openai_apikey.txt', 'r') as f:\n",
        "            api_key = f.read()\n",
        "\n",
        "        os.environ[\"OPENAI_API_KEY\"] = api_key\n",
        "        # 初始化 OpenAI 客戶端\n",
        "\n",
        "        client = openai.Client(api_key=os.environ[\"OPENAI_API_KEY\"])\n",
        "\n",
        "        completion = client.chat.completions.create(\n",
        "          model=\"gpt-3.5-turbo\",\n",
        "          # 構建消息列表\n",
        "          messages = [\n",
        "              {\"role\": \"system\", \"content\": \"You are a human resource secretary, please answer my questions based on information I provided.\"},\n",
        "              {\"role\": \"system\", \"content\": \"Please provide a precise answer based on the json_data file.\"},\n",
        "              {\"role\": \"system\", \"content\": json_data},\n",
        "              {\"role\": \"user\", \"content\": user_question}\n",
        "          ]\n",
        "        )\n",
        "        print(completion.choices[0].message.content)\n",
        "        return completion.choices[0].message.content\n",
        "    except Exception as e:\n",
        "        return f\"Error occurred: {e}\"\n",
        "\n",
        "def main_generate_pdf(emp_num):\n",
        "    return generate_termination_pdf(emp_num)\n",
        "\n",
        "def main_openai_response(user_question):\n",
        "    return call_openai(user_question)\n",
        "\n",
        "def clear_question(question_input, openai_output):\n",
        "  # Clear the question input field\n",
        "  question_input.value = \"\"\n",
        "\n",
        "  # Reset OpenAI response field\n",
        "  openai_output.value = \"\"\n",
        "\n",
        "with gr.Blocks() as demo:\n",
        "  with gr.Tab(\"Generate PDF\"):\n",
        "      emp_num_input = gr.Textbox(label=\"Enter Employee Number\")\n",
        "      pdf_output = gr.Textbox(label=\"Generated PDF Path\")\n",
        "      generate_pdf_button = gr.Button(\"Generate PDF\")\n",
        "      generate_pdf_button.click(fn=main_generate_pdf, inputs=emp_num_input, outputs=pdf_output)\n",
        "\n",
        "  with gr.Tab(\"Ask OpenAI\"):\n",
        "    question_input = gr.Textbox(label=\"Enter your question\")\n",
        "    openai_output = gr.Textbox(label=\"AI Response\")\n",
        "    ask_openai_button = gr.Button(\"Ask\")\n",
        "    #clear_question_button = gr.Button(\"Clear\")\n",
        "\n",
        "    ask_openai_button.click(fn=main_openai_response, inputs=question_input, outputs=openai_output)\n",
        "    #clear_question_button.click(fn=clear_question, inputs=[question_input, openai_output])\n",
        "\n",
        "demo.launch()\n",
        "\n"
      ],
      "metadata": {
        "colab": {
          "base_uri": "https://localhost:8080/",
          "height": 626
        },
        "id": "3awNhxZ7XGRO",
        "outputId": "bc235a24-7649-410f-fe16-4b504f0fd746"
      },
      "execution_count": 12,
      "outputs": [
        {
          "output_type": "stream",
          "name": "stdout",
          "text": [
            "Setting queue=True in a Colab notebook requires sharing enabled. Setting `share=True` (you can turn this off by setting `share=False` in `launch()` explicitly).\n",
            "\n",
            "Colab notebook detected. To show errors in colab notebook, set debug=True in launch()\n",
            "Running on public URL: https://0b8abd3ca08cced8c2.gradio.live\n",
            "\n",
            "This share link expires in 72 hours. For free permanent hosting and GPU upgrades, run `gradio deploy` from Terminal to deploy to Spaces (https://huggingface.co/spaces)\n"
          ]
        },
        {
          "output_type": "display_data",
          "data": {
            "text/plain": [
              "<IPython.core.display.HTML object>"
            ],
            "text/html": [
              "<div><iframe src=\"https://0b8abd3ca08cced8c2.gradio.live\" width=\"100%\" height=\"500\" allow=\"autoplay; camera; microphone; clipboard-read; clipboard-write;\" frameborder=\"0\" allowfullscreen></iframe></div>"
            ]
          },
          "metadata": {}
        },
        {
          "output_type": "execute_result",
          "data": {
            "text/plain": []
          },
          "metadata": {},
          "execution_count": 12
        }
      ]
    }
  ]
}