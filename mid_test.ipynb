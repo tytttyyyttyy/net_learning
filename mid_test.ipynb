{
 "cells": [
  {
   "cell_type": "code",
   "execution_count": 3,
   "id": "dbddaa1c",
   "metadata": {},
   "outputs": [
    {
     "name": "stdout",
     "output_type": "stream",
     "text": [
      "   Age          Workclass  Income   Education  Education-Num  \\\n",
      "0   39          State-gov   77516   Bachelors             13   \n",
      "1   50   Self-emp-not-inc   83311   Bachelors             13   \n",
      "2   38            Private  215646     HS-grad              9   \n",
      "3   53            Private  234721        11th              7   \n",
      "4   28            Private  338409   Bachelors             13   \n",
      "\n",
      "        Marital Status          Occupation    Relationship    Race      Sex  \\\n",
      "0        Never-married        Adm-clerical   Not-in-family   White     Male   \n",
      "1   Married-civ-spouse     Exec-managerial         Husband   White     Male   \n",
      "2             Divorced   Handlers-cleaners   Not-in-family   White     Male   \n",
      "3   Married-civ-spouse   Handlers-cleaners         Husband   Black     Male   \n",
      "4   Married-civ-spouse      Prof-specialty            Wife   Black   Female   \n",
      "\n",
      "   Capital Gain  Capital Loss  Hours per Week  Native Country  \n",
      "0          2174             0              40   United-States  \n",
      "1             0             0              13   United-States  \n",
      "2             0             0              40   United-States  \n",
      "3             0             0              40   United-States  \n",
      "4             0             0              40            Cuba  \n",
      "薪資的平均值為： 189778.36651208502\n",
      "薪資的標準差為： 105548.3568808909\n",
      "薪資的中位數為： 178356.0\n"
     ]
    }
   ],
   "source": [
    "import pandas as pd\n",
    "import numpy as np\n",
    "\n",
    "# 讀取 CSV 檔案\n",
    "data = pd.read_csv('adult.csv')\n",
    "\n",
    "# 顯示數據\n",
    "print(data.head())\n",
    "\n",
    "# 選擇薪資欄位\n",
    "salary_data = data['Income']\n",
    "\n",
    "# 使用 NumPy 進行薪資統計\n",
    "mean_salary = np.mean(salary_data)\n",
    "std_salary = np.std(salary_data)\n",
    "median_salary = np.median(salary_data)\n",
    "\n",
    "# 顯示薪資統計結果\n",
    "print('薪資的平均值為：', mean_salary)\n",
    "print('薪資的標準差為：', std_salary)\n",
    "print('薪資的中位數為：', median_salary)"
   ]
  },
  {
   "cell_type": "code",
   "execution_count": null,
   "id": "ab8527a8",
   "metadata": {},
   "outputs": [],
   "source": []
  }
 ],
 "metadata": {
  "kernelspec": {
   "display_name": "Python 3 (ipykernel)",
   "language": "python",
   "name": "python3"
  },
  "language_info": {
   "codemirror_mode": {
    "name": "ipython",
    "version": 3
   },
   "file_extension": ".py",
   "mimetype": "text/x-python",
   "name": "python",
   "nbconvert_exporter": "python",
   "pygments_lexer": "ipython3",
   "version": "3.11.5"
  }
 },
 "nbformat": 4,
 "nbformat_minor": 5
}
